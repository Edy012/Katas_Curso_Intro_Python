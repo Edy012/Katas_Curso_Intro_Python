{
 "cells": [
  {
   "cell_type": "markdown",
   "metadata": {},
   "source": [
    "# Usar operaciones matemáticas"
   ]
  },
  {
   "cell_type": "code",
   "execution_count": null,
   "metadata": {},
   "outputs": [],
   "source": [
    "# Programa para calcular la distacia entre dos planetas \n",
    "Tierra = 149597870\n",
    "Júpiter = 778547200\n",
    "\n",
    "Dist = Tierra - Júpiter\n",
    "print(abs(Dist),'En kilometros')\n",
    "print(abs(Dist*0.621), 'En millas')\n"
   ]
  },
  {
   "cell_type": "markdown",
   "metadata": {},
   "source": [
    "# Ejercicio 2:  Convierte cadenas en números y usa valores absolutos"
   ]
  },
  {
   "cell_type": "code",
   "execution_count": 3,
   "metadata": {},
   "outputs": [
    {
     "name": "stdout",
     "output_type": "stream",
     "text": [
      "4119996 En kilometros\n",
      "2558517.516 En millas\n"
     ]
    }
   ],
   "source": [
    "distancia1 = input('¿Cual es la distanciaa la planeta?')\n",
    "distancia2 = input('¿Cual es la distancia al segundo planeta?')\n",
    "\n",
    "distancia1 = int(distancia1)\n",
    "distancia2 = int(distancia2)\n",
    "\n",
    "DistT = distancia1 - distancia2 \n",
    "print(abs(DistT), 'En kilometros')\n",
    "print(abs(DistT*0.621), 'En millas')\n",
    "\n"
   ]
  }
 ],
 "metadata": {
  "interpreter": {
   "hash": "f3be8ece90000cded94584fe580b3d46bc2be5d35f724076b6551610683c35c1"
  },
  "kernelspec": {
   "display_name": "Python 3.9.10 64-bit",
   "language": "python",
   "name": "python3"
  },
  "language_info": {
   "codemirror_mode": {
    "name": "ipython",
    "version": 3
   },
   "file_extension": ".py",
   "mimetype": "text/x-python",
   "name": "python",
   "nbconvert_exporter": "python",
   "pygments_lexer": "ipython3",
   "version": "3.9.10"
  },
  "orig_nbformat": 4
 },
 "nbformat": 4,
 "nbformat_minor": 2
}
