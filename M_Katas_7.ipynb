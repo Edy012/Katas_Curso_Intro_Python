{
 "cells": [
  {
   "cell_type": "markdown",
   "metadata": {},
   "source": [
    "# Ejercicio 1: Creación de un bucle \"while\""
   ]
  },
  {
   "cell_type": "code",
   "execution_count": 5,
   "metadata": {},
   "outputs": [],
   "source": [
    "new_planet = ''\n",
    "planets = []"
   ]
  },
  {
   "cell_type": "code",
   "execution_count": 6,
   "metadata": {},
   "outputs": [],
   "source": [
    "while new_planet.lower() != 'done':\n",
    "    if new_planet:\n",
    "        planets.append(new_planet)\n",
    "    new_planet = input('Enter a new planet ')"
   ]
  },
  {
   "cell_type": "code",
   "execution_count": 7,
   "metadata": {},
   "outputs": [
    {
     "name": "stdout",
     "output_type": "stream",
     "text": [
      "['Marte', 'venus', 'tierra', 'jupiter ', 'saturno ', 'nepturnooooo ']\n"
     ]
    }
   ],
   "source": [
    "print(planets)"
   ]
  },
  {
   "cell_type": "markdown",
   "metadata": {},
   "source": [
    "# Ejercicio 2 "
   ]
  },
  {
   "cell_type": "code",
   "execution_count": 8,
   "metadata": {},
   "outputs": [
    {
     "name": "stdout",
     "output_type": "stream",
     "text": [
      "['Marte', 'venus', 'tierra', 'jupiter ', 'saturno ', 'nepturnooooo ']\n",
      "['Marte', 'venus', 'tierra', 'jupiter ', 'saturno ', 'nepturnooooo ']\n",
      "['Marte', 'venus', 'tierra', 'jupiter ', 'saturno ', 'nepturnooooo ']\n",
      "['Marte', 'venus', 'tierra', 'jupiter ', 'saturno ', 'nepturnooooo ']\n",
      "['Marte', 'venus', 'tierra', 'jupiter ', 'saturno ', 'nepturnooooo ']\n",
      "['Marte', 'venus', 'tierra', 'jupiter ', 'saturno ', 'nepturnooooo ']\n"
     ]
    }
   ],
   "source": [
    "for planet in planets:\n",
    "    print(planets)"
   ]
  }
 ],
 "metadata": {
  "interpreter": {
   "hash": "f3be8ece90000cded94584fe580b3d46bc2be5d35f724076b6551610683c35c1"
  },
  "kernelspec": {
   "display_name": "Python 3.9.10 64-bit",
   "language": "python",
   "name": "python3"
  },
  "language_info": {
   "codemirror_mode": {
    "name": "ipython",
    "version": 3
   },
   "file_extension": ".py",
   "mimetype": "text/x-python",
   "name": "python",
   "nbconvert_exporter": "python",
   "pygments_lexer": "ipython3",
   "version": "3.9.10"
  },
  "orig_nbformat": 4
 },
 "nbformat": 4,
 "nbformat_minor": 2
}
