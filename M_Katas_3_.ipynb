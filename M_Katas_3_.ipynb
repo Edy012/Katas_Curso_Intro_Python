{
 "cells": [
  {
   "cell_type": "markdown",
   "metadata": {},
   "source": [
    "# asteroide se acerca a la Tierra demasiado rápido"
   ]
  },
  {
   "cell_type": "code",
   "execution_count": 1,
   "metadata": {},
   "outputs": [
    {
     "name": "stdout",
     "output_type": "stream",
     "text": [
      "Un asteroide se acerca a la tierra demasiado rapido \n"
     ]
    }
   ],
   "source": [
    "# Para este ejercicio, escribirás una lógica condicional que imprima una advertencia si un asteroide \n",
    "# se acerca a la Tierra demasiado rápido. La velocidad del asteroide varía dependiendo de lo cerca \n",
    "# que este que esté del sol, y cualquier velocidad superior a 25 kilómetros por segundo merece advertencia.\n",
    "\n",
    "#Un asteroide se acerca, y viaja a una velocidad de 49 km/s.\n",
    "vAsteroideL = 35;\n",
    "vAsteroide = 49; \n",
    "if vAsteroideL <= vAsteroide:\n",
    "    print (\"Un asteroide se acerca a la tierra demasiado rapido \")\n",
    "else: \n",
    "    print(\"Sigan su dia, no hay peligro\")"
   ]
  },
  {
   "cell_type": "code",
   "execution_count": 6,
   "metadata": {},
   "outputs": [
    {
     "name": "stdout",
     "output_type": "stream",
     "text": [
      "Hoy no hay nada que ver! \n"
     ]
    }
   ],
   "source": [
    "# Si un asteroide entra en la atmosfera de la tierra a una velocidad mayor o igual a 20km/s\n",
    "# a veces se produce un rayo de luz que se puede ver desde la Tierra.EScribe la lógica condicional\n",
    "# que usa declaraciónes if, else y elif para alertar a las personas de todo el mundo que deben buscar\n",
    "# un asteroide en el cielo. ! hay uno que se difige a la tierra ahora a una velocidad de 19km/s.        \n",
    "\n",
    "estela = 20; \n",
    "vAsteroide2 = 19; \n",
    "if estela <= vAsteroide2:\n",
    "    print(\"Personas del mundo busquen un asteroide en el cielo \")\n",
    "else: \n",
    "    print(\"Hoy no hay nada que ver! \")\n",
    " "
   ]
  },
  {
   "cell_type": "code",
   "execution_count": 24,
   "metadata": {},
   "outputs": [
    {
     "name": "stdout",
     "output_type": "stream",
     "text": [
      "Una bonita estela de luz mira al cielo querida población\n"
     ]
    }
   ],
   "source": [
    "# Los asteroides de menos de 25 metros en su dimensión más grande probablemente se quemarán a medida que \n",
    "# entren en la atmósfera de la Tierra. \n",
    "#   Si una pieza de un asteroide que es más grande que 25 metros pero más pequeña que 1000 metros polpeara la Tierra causaría mucho daño. \n",
    "# También discutimos en el ejercicio anterior que: \n",
    "#   La velocidad del asteroide varía en función de lo cerca que esté del sol y cualquier velocidad velocidad superior a 25 kilónmetros \n",
    "#   por segundo (km/s) merece una advetencia. \n",
    "#   Si un asteroide entras en la atmósfera de la Tierra a una velocidad mayor o igual a 20km/s, a vece produce un rayo de luzque se puede ver \n",
    "#   desde la Tierra. \n",
    "\n",
    "vAsteoride3 = 12; \n",
    "tAsteroide = 25; \n",
    "if tAsteroide > 25 and vAsteoride3 > 25:\n",
    "    print (\"Corre fores, corres, esto es muy peligroso no sigan leyendo y salvese quien pueda\")\n",
    "elif vAsteoride3 <= 25: \n",
    "    print(\"Una bonita estela de luz mira al cielo querida población\")\n",
    "elif tAsteroide < 25: \n",
    "    print(\"El asteroide es muy pequeño se va a dehacer en la atmósfera\")\n",
    "else: \n",
    "    print(\"No hay nada que ver señoras y señores\")\n",
    "\n"
   ]
  }
 ],
 "metadata": {
  "interpreter": {
   "hash": "f3be8ece90000cded94584fe580b3d46bc2be5d35f724076b6551610683c35c1"
  },
  "kernelspec": {
   "display_name": "Python 3.9.10 64-bit",
   "language": "python",
   "name": "python3"
  },
  "language_info": {
   "codemirror_mode": {
    "name": "ipython",
    "version": 3
   },
   "file_extension": ".py",
   "mimetype": "text/x-python",
   "name": "python",
   "nbconvert_exporter": "python",
   "pygments_lexer": "ipython3",
   "version": "3.9.10"
  },
  "orig_nbformat": 4
 },
 "nbformat": 4,
 "nbformat_minor": 2
}
